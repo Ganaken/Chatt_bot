{
 "cells": [
  {
   "cell_type": "code",
   "execution_count": 36,
   "metadata": {},
   "outputs": [],
   "source": [
    "import numpy as np\n",
    "from sklearn.feature_extraction.text import CountVectorizer\n",
    "from numpy.linalg import linalg as LA\n",
    "import time"
   ]
  },
  {
   "cell_type": "markdown",
   "metadata": {},
   "source": [
    "## Corpus"
   ]
  },
  {
   "cell_type": "code",
   "execution_count": 1,
   "metadata": {},
   "outputs": [],
   "source": [
    "corpus = {\n",
    "    1:{'driving under the influence of Alcohol':'Vehicle confiscation period : 60 Days ; Fine : To be decided by court ; Black Points : 23',\n",
    "       'driving under the influence of drugs or brain affecting substances or any other similar items':'Vehicle confiscation period : 60 Days ; Fine : To be decided by court ; Black Points : 23',\n",
    "       'driving a vehicle without plates':'Vehicle confiscation period : 90 Days ; Fine : 3000 AED ; Black Points : 23',\n",
    "       'driving the vehicle against the traffic direction':'Vehicle confiscation period : 7 Days ; Fine : 1000 AED ; Black Points : 8',\n",
    "       'entering the vehicle into a prohibited area':'Vehicle confiscation period : 7 Days ; Fine : 1000 AED ; Black Points : 8',\n",
    "       'exceeding the maximum speed limit by more than 80 km/hour':'Vehicle confiscation period : 60 Days ; Fine : 3000 AED ; Black Points : 23',\n",
    "       'exceeding the maximum speed limit by more than 60 km/hour':'Vehicle confiscation period : 30 Days ; Fine : 2000 AED ; Black Points : 12',\n",
    "       'i want to pay my fine':'Sure! You can pay your fine direcly at (any website you want)',\n",
    "       'what is the fine for over speeding':'The over speeding fine depends on how severely you have exceeded your speed limit',\n",
    "       'what is the fine for drunk driving': 'Vehicle confiscation period : 60 Days ; Fine : To be decided by court ; Black Points : 23',\n",
    "       'what is the fine for not carrying the driving license':'The is no specific fine associated with it.',\n",
    "       'fine for driving with expired tyres':'Vehicle confiscation period : 7 Days ; Fine : 500 AED; Black Points : 4',\n",
    "       'what is the fine for jumping a red light':'Vehicle confiscation period : 15 Days ; Fine : 800 AED; Black Points : 8',\n",
    "       'what do you do when someone gets killed by accident':'Vehicle confiscation period : 30 Days ; Fine : To be decided by court ; Black Points : 12',\n",
    "       'Not stopping after causing an accident that resulted in injuries':'Vehicle confiscation period : 60 Days ; Fine : To be decided by court ; Black Points : 24',\n",
    "       'Driving a vehicle without number plates':'Vehicle confiscation period : 60 Days ; Fine : 1000 AED; Black Points : 24',\n",
    "       'Running away from a traffic policeman':'Vehicle confiscation period : 30 Days ; Fine : 800 AED ; Black Points : 12',\n",
    "       'Causing moderate injury':'Fine : To be decided by court ; Black Points : 6',\n",
    "       'Driving a noisy vehicle':'Vehicle confiscation period : 30 Days ; Fine : 800 AED; Black Points : 12',\n",
    "       'Driving a vehicle that causes pollution':'Fine : 500 AED',\n",
    "       'failure to stop after causing an accident':'Fine 500 AED',\n",
    "       'Throwing waste from vehicles onto roads':'Fine : 500 AED ; Black points : 4'\n",
    "}\n",
    "}"
   ]
  },
  {
   "cell_type": "code",
   "execution_count": 38,
   "metadata": {},
   "outputs": [],
   "source": [
    "def model(train_dataset,user_question):\n",
    "    new_question = [user_question]\n",
    "    questions = list(train_dataset.keys())\n",
    "    vectorizer , vectorizedArray = train_func(questions)\n",
    "    u_input = vectorizer.transform(new_question).toarray()\n",
    "    \n",
    "    cx = lambda a,b : round(np.inner(a,b) / (LA.norm(a) * LA.norm(b)),3)\n",
    "    \n",
    "    for grabbed_question in u_input:\n",
    "        cos = 0.0\n",
    "        ans = \"\"\n",
    "        for i,potential_question in enumerate(vectorizedArray):\n",
    "            cosine = cx(potential_question,grabbed_question)\n",
    "            if(cosine > cos):\n",
    "                cos = cosine\n",
    "                a = questions[i]\n",
    "                ans = train_dataset[a]\n",
    "        \n",
    "    if ans == \"\":\n",
    "        return \"I dont understand\"\n",
    "    else:\n",
    "        return ans"
   ]
  },
  {
   "cell_type": "code",
   "execution_count": 39,
   "metadata": {},
   "outputs": [],
   "source": [
    "def train_func(train_dataset):\n",
    "    stopwords = ['the', 'is', 'are', 'were', 'a', 'an', 'was',\n",
    "                 'has', 'had', 'have','to','do','of','on','my','any','be','by']\n",
    "    vectorizer = CountVectorizer(stop_words=stopwords)\n",
    "    vectorizedArray = vectorizer.fit_transform(train_dataset).toarray()\n",
    "    return vectorizer,vectorizedArray"
   ]
  },
  {
   "cell_type": "code",
   "execution_count": 40,
   "metadata": {},
   "outputs": [],
   "source": [
    "def main(key,user_input):\n",
    "    question_dict = corpus[key]\n",
    "    answer = model(question_dict,user_input)\n",
    "    return answer"
   ]
  },
  {
   "cell_type": "code",
   "execution_count": 41,
   "metadata": {},
   "outputs": [
    {
     "data": {
      "text/plain": [
       "'Vehicle confiscation period : 30 Days ; Fine : 800 AED ; Black Points : 12'"
      ]
     },
     "execution_count": 41,
     "metadata": {},
     "output_type": "execute_result"
    }
   ],
   "source": [
    "main(1,\"run away from police\")"
   ]
  }
 ],
 "metadata": {
  "kernelspec": {
   "display_name": "Python 3",
   "language": "python",
   "name": "python3"
  },
  "language_info": {
   "codemirror_mode": {
    "name": "ipython",
    "version": 3
   },
   "file_extension": ".py",
   "mimetype": "text/x-python",
   "name": "python",
   "nbconvert_exporter": "python",
   "pygments_lexer": "ipython3",
   "version": "3.6.4"
  }
 },
 "nbformat": 4,
 "nbformat_minor": 2
}
